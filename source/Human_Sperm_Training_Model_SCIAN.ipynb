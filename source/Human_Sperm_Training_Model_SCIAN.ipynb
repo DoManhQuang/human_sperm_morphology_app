{
  "nbformat": 4,
  "nbformat_minor": 0,
  "metadata": {
    "colab": {
      "name": "Human_Sperm_Training_Model_SCIAN.ipynb",
      "provenance": [],
      "collapsed_sections": []
    },
    "kernelspec": {
      "name": "python3",
      "display_name": "Python 3"
    },
    "language_info": {
      "name": "python"
    },
    "accelerator": "GPU"
  },
  "cells": [
    {
      "cell_type": "code",
      "execution_count": null,
      "metadata": {
        "id": "ehZxbrVpBjZk"
      },
      "outputs": [],
      "source": [
        "import pandas as pd\n",
        "import numpy as np\n",
        "import tensorflow as tf\n",
        "import cv2\n",
        "from keras.applications.densenet import preprocess_input\n",
        "from keras.preprocessing import image\n",
        "import pickle\n",
        "import matplotlib.pyplot as plt\n",
        "from sklearn.model_selection import train_test_split\n",
        "from tensorflow.keras.applications.resnet50 import ResNet50, preprocess_input\n",
        "from keras.applications.mobilenet_v2 import MobileNetV2\n",
        "from tensorflow import keras\n",
        "from keras.layers import Input, Flatten, Dense, Dropout, Conv2D, AveragePooling2D, Concatenate, GlobalAveragePooling2D\n",
        "from keras.layers import Dense, GlobalAveragePooling2D, Dropout, AveragePooling2D, GlobalMaxPooling2D, BatchNormalization, MaxPooling2D\n",
        "from keras.models import Model\n",
        "from tensorflow.keras.utils import to_categorical\n",
        "from sklearn.metrics import plot_roc_curve, classification_report, plot_confusion_matrix, accuracy_score\n",
        "from keras.preprocessing.image import ImageDataGenerator\n",
        "from sklearn.preprocessing import LabelBinarizer\n",
        "from sklearn.metrics import confusion_matrix\n",
        "from keras.layers import BatchNormalization"
      ]
    },
    {
      "cell_type": "code",
      "source": [
        "from google.colab import drive\n",
        "drive.mount('/content/drive')"
      ],
      "metadata": {
        "colab": {
          "base_uri": "https://localhost:8080/"
        },
        "id": "pm2VvN2sB--g",
        "outputId": "ffbcc6d4-7b6d-4b22-db2b-1e0f4114f90e"
      },
      "execution_count": null,
      "outputs": [
        {
          "output_type": "stream",
          "name": "stdout",
          "text": [
            "Drive already mounted at /content/drive; to attempt to forcibly remount, call drive.mount(\"/content/drive\", force_remount=True).\n"
          ]
        }
      ]
    },
    {
      "cell_type": "code",
      "source": [
        "def save_dump(file_path, data, labels):\n",
        "    file = open(file_path, 'wb')\n",
        "    # dump information to that file\n",
        "    pickle.dump((data, labels), file)\n",
        "    # close the file\n",
        "    file.close()\n",
        "    pass\n",
        "\n",
        "\n",
        "def load_data(path_file):\n",
        "    file = open(path_file, 'rb')\n",
        "    # dump information to that file\n",
        "    (pixels, labels) = pickle.load(file)\n",
        "    # close the file\n",
        "    file.close()\n",
        "    print(pixels.shape)\n",
        "    print(labels.shape)\n",
        "    return pixels, labels\n",
        "\n",
        "\n",
        "def view_chart(performance, people, chart):\n",
        "    fig, ax = plt.subplots()\n",
        "    y_pos = np.arange(len(people))\n",
        "    ax.barh(y_pos, performance, align='center', color=['green', 'yellowgreen', 'dodgerblue','orange'])\n",
        "    for index, value in enumerate(performance):\n",
        "        plt.text(value, index, str(value))\n",
        "    ax.set_yticks(y_pos)\n",
        "    ax.set_yticklabels(people)\n",
        "    ax.invert_yaxis()\n",
        "    ax.set_xlabel('Number')\n",
        "    ax.set_title(chart)\n",
        "    plt.xlim(0, max(performance) + 400)\n",
        "    plt.show()\n",
        "    pass\n",
        "\n",
        "\n",
        "def view_model_history(model_history):\n",
        "    # view\n",
        "    accuracy = model_history.history['accuracy']\n",
        "    val_accuracy = model_history.history['val_accuracy']\n",
        "    loss = model_history.history['loss']\n",
        "    val_loss = model_history.history['val_loss']\n",
        "    epochs = range(len(accuracy))\n",
        "    plt.plot(epochs, accuracy, 'b', label='Training accuracy')\n",
        "    plt.plot(epochs, val_accuracy, 'r', label='Validation accuracy')\n",
        "    plt.title('Training and validation accuracy')\n",
        "    plt.legend()\n",
        "    plt.figure()\n",
        "    plt.plot(epochs, loss, 'b', label='Training loss')\n",
        "    plt.plot(epochs, val_loss, 'r', label='Validation loss')\n",
        "    plt.title('Training and validation loss')\n",
        "    plt.legend()\n",
        "    plt.show()\n",
        "    pass\n",
        "\n",
        "\n",
        "def get_labels_smids(labels_name):\n",
        "    labels_number = []\n",
        "    for lb in labels_name:\n",
        "        if lb == '01-Normal':\n",
        "            labels_number.append(0)\n",
        "        elif lb == '02-Tapered':\n",
        "            labels_number.append(1)\n",
        "        elif lb == \"03-Pyriform\":\n",
        "            labels_number.append(2)\n",
        "        elif lb == \"04-Small\":\n",
        "            labels_number.append(3)\n",
        "        else:\n",
        "            labels_number.append(4)\n",
        "    return np.array(labels_number)"
      ],
      "metadata": {
        "id": "KHQlu4ElCI8i"
      },
      "execution_count": null,
      "outputs": []
    },
    {
      "cell_type": "code",
      "source": [
        "# Dataset SCIAN\n",
        "CATEGORIES = [\"01-Normal\", \"02-Tapered\", \"03-Pyriform\", \"04-Small\", \"05-Amorphous\"]\n",
        "scian_train = '/content/drive/MyDrive/human_sperm_morphology_dataset/SCIAN-Morpho/dataset/scian_train.data'\n",
        "scian_valid = '/content/drive/MyDrive/human_sperm_morphology_dataset/SCIAN-Morpho/dataset/scian_valid.data'\n",
        "scian_test = '/content/drive/MyDrive/human_sperm_morphology_dataset/SCIAN-Morpho/dataset/scian_datatest.data'\n",
        "\n",
        "data_scian_train, labels_scian_train = load_data(scian_train)\n",
        "data_scian_valid, labels_scian_valid = load_data(scian_valid)\n",
        "data_scian_test, labels_scian_test = load_data(scian_test)\n",
        "\n",
        "lb = LabelBinarizer()\n",
        "labels_scian_train_one_hot = lb.fit_transform(labels_scian_train)\n",
        "labels_scian_valid_one_hot = lb.fit_transform(labels_scian_valid)\n",
        "labels_scian_test_one_hot = lb.fit_transform(labels_scian_test)\n",
        "\n",
        "labels_scian_train_one_hot.shape, labels_scian_valid_one_hot.shape, labels_scian_test_one_hot.shape"
      ],
      "metadata": {
        "colab": {
          "base_uri": "https://localhost:8080/"
        },
        "id": "_UIojC0TCREA",
        "outputId": "82ad5f79-0f45-4956-b082-78172abcba00"
      },
      "execution_count": null,
      "outputs": [
        {
          "output_type": "stream",
          "name": "stdout",
          "text": [
            "(9125, 33, 33, 3)\n",
            "(9125,)\n",
            "(2282, 33, 33, 3)\n",
            "(2282,)\n",
            "(2852, 33, 33, 3)\n",
            "(2852,)\n"
          ]
        },
        {
          "output_type": "execute_result",
          "data": {
            "text/plain": [
              "((9125, 5), (2282, 5), (2852, 5))"
            ]
          },
          "metadata": {},
          "execution_count": 28
        }
      ]
    },
    {
      "cell_type": "code",
      "source": [
        "# base_model = ResNet50(weights='imagenet', include_top=False, input_shape=(33, 33, 3))\n",
        "# for layer in base_model.layers:\n",
        "#     layer.trainable = False\n",
        "\n",
        "# # Create new model.\n",
        "# headModel = base_model.output\n",
        "# headModel = BatchNormalization()(headModel)\n",
        "# headModel = GlobalAveragePooling2D()(headModel)\n",
        "# headModel = Dropout(0.4)(headModel)\n",
        "# headModel = Dense(1024, activation='relu')(headModel)\n",
        "# headModel = Dropout(0.5)(headModel)\n",
        "# headModel = Dense(5, activation='softmax')(headModel)\n",
        "\n",
        "# model = Model(inputs=base_model.input, outputs=headModel)\n",
        "# model.summary()"
      ],
      "metadata": {
        "id": "df4zFxkpCugC"
      },
      "execution_count": null,
      "outputs": []
    },
    {
      "cell_type": "code",
      "source": [
        "input_shape=(33, 33, 3)\n",
        "\n",
        "model = tf.keras.Sequential()\n",
        "model.add(Conv2D(filters=64, kernel_size=(2, 2), input_shape=input_shape, activation='relu'))\n",
        "model.add(MaxPooling2D(pool_size=(2,2)))\n",
        "model.add(Conv2D(filters=128, kernel_size=(2, 2), activation='relu', padding='same'))\n",
        "model.add(MaxPooling2D(pool_size=(2,2)))\n",
        "model.add(Conv2D(filters=256, kernel_size=(2, 2), activation='relu', padding='same'))\n",
        "model.add(MaxPooling2D(pool_size=(2,2)))\n",
        "model.add(Conv2D(filters=512, kernel_size=(2, 2), activation='relu', padding='same'))\n",
        "model.add(BatchNormalization())\n",
        "model.add(GlobalMaxPooling2D())\n",
        "model.add(Dropout(0.4))\n",
        "model.add(Dense(256, activation='relu'))\n",
        "model.add(Dropout(0.5))\n",
        "model.add(Dense(5, activation='softmax'))\n",
        "model.summary()"
      ],
      "metadata": {
        "id": "4b8S2YiNwtZk"
      },
      "execution_count": null,
      "outputs": []
    },
    {
      "cell_type": "code",
      "source": [
        "# model.compile(\n",
        "#     optimizer=tf.keras.optimizers.Adam(learning_rate=0.003),\n",
        "#     loss=tf.keras.losses.CategoricalCrossentropy(),\n",
        "#     metrics=[tf.keras.metrics.CategoricalCrossentropy(name=\"accuracy\")],\n",
        "# )\n",
        "\n",
        "model.compile(\n",
        "  optimizer=tf.keras.optimizers.Adam(),\n",
        "  loss=tf.keras.losses.CategoricalCrossentropy(),\n",
        "  metrics=[tf.keras.metrics.CategoricalCrossentropy(name=\"accuracy\")])"
      ],
      "metadata": {
        "id": "g7FHBPn-FegC"
      },
      "execution_count": null,
      "outputs": []
    },
    {
      "cell_type": "code",
      "source": [
        "size = 64\n",
        "ep = 50\n",
        "ver = 1\n",
        "\n",
        "model_history = model.fit(data_scian_train, labels_scian_train_one_hot, batch_size=size, epochs=ep, verbose=ver, \n",
        "                          validation_data=(data_scian_valid, labels_scian_valid_one_hot), shuffle=True)\n",
        "\n",
        "view_model_history(model_history)"
      ],
      "metadata": {
        "id": "5eHGgcsQJkSr"
      },
      "execution_count": null,
      "outputs": []
    },
    {
      "cell_type": "code",
      "source": [
        "test_eval = model.evaluate(data_scian_test, labels_scian_test_one_hot, verbose=1)\n",
        "print('Test loss:', test_eval[0])\n",
        "print('Test accuracy:', test_eval[1])"
      ],
      "metadata": {
        "colab": {
          "base_uri": "https://localhost:8080/"
        },
        "id": "C0MnyMGpyIiS",
        "outputId": "074dae03-0040-45b4-860c-0d7c65fc5118"
      },
      "execution_count": null,
      "outputs": [
        {
          "output_type": "stream",
          "name": "stdout",
          "text": [
            "90/90 [==============================] - 2s 19ms/step - loss: 1.9205 - accuracy: 0.4309\n",
            "Test loss: 1.9205259084701538\n",
            "Test accuracy: 0.4309256672859192\n"
          ]
        }
      ]
    },
    {
      "cell_type": "code",
      "source": [
        "y_predict = model.predict(data_scian_test)\n",
        "y_target = np.argmax(y_predict, axis=1)\n",
        "labels_scian_test_number = get_labels_smids(labels_scian_test)\n",
        "\n",
        "print(\"Accuracy: %.2f %%\" % (100 * accuracy_score(labels_scian_test_number, y_target)))\n",
        "print(confusion_matrix(labels_scian_test_number, y_target))\n",
        "\n",
        "target_names = [\"Class {}\".format(i) for i in range(len(np.unique(labels_scian_test_number)))]\n",
        "print(classification_report(labels_scian_test_number, y_target, target_names=target_names))"
      ],
      "metadata": {
        "colab": {
          "base_uri": "https://localhost:8080/"
        },
        "id": "wKmPm_-Ey6zM",
        "outputId": "2217ee92-1d67-4748-bc30-5c1ac34847e3"
      },
      "execution_count": null,
      "outputs": [
        {
          "output_type": "stream",
          "name": "stdout",
          "text": [
            "Accuracy: 43.09 %\n",
            "[[308 137  84  42  37]\n",
            " [121 441  70  36  43]\n",
            " [142 147 150  20  35]\n",
            " [144  85  30 159  41]\n",
            " [120 134  72  83 171]]\n",
            "              precision    recall  f1-score   support\n",
            "\n",
            "     Class 0       0.37      0.51      0.43       608\n",
            "     Class 1       0.47      0.62      0.53       711\n",
            "     Class 2       0.37      0.30      0.33       494\n",
            "     Class 3       0.47      0.35      0.40       459\n",
            "     Class 4       0.52      0.29      0.38       580\n",
            "\n",
            "    accuracy                           0.43      2852\n",
            "   macro avg       0.44      0.41      0.41      2852\n",
            "weighted avg       0.44      0.43      0.42      2852\n",
            "\n"
          ]
        }
      ]
    },
    {
      "cell_type": "code",
      "source": [
        "model.save(\"/content/drive/MyDrive/human_sperm_morphology_dataset/models/smids_resnet50.h5\")"
      ],
      "metadata": {
        "id": "74MR7d2GxLB0"
      },
      "execution_count": null,
      "outputs": []
    }
  ]
}