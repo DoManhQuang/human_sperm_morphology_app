{
 "cells": [
  {
   "cell_type": "code",
   "execution_count": 1,
   "metadata": {},
   "outputs": [
    {
     "name": "stdout",
     "output_type": "stream",
     "text": [
      " Volume in drive C has no label.\n",
      " Volume Serial Number is 05E4-F450\n",
      "\n",
      " Directory of c:\\Users\\FITHAUI\\Desktop\\human_sperm_morphology_app\\source\n",
      "\n",
      "08/06/2023  12:06 AM    <DIR>          .\n",
      "08/06/2023  12:06 AM    <DIR>          ..\n",
      "08/05/2023  11:56 PM             1,017 app.py\n",
      "08/06/2023  12:06 AM                 0 demo.ipynb\n",
      "08/05/2023  11:56 PM               651 demo_UI.py\n",
      "08/05/2023  11:56 PM            14,522 Human_Sperm_Training_Model_SCIAN.ipynb\n",
      "08/05/2023  11:56 PM           163,523 Human_Sperm_Training_Model_SMIDS.ipynb\n",
      "08/05/2023  11:56 PM            15,120 QuickStart_Dataset_HumanSperm.ipynb\n",
      "08/05/2023  11:56 PM               254 run_yolov6.sh\n",
      "08/05/2023  11:56 PM    <DIR>          sperm_classification\n",
      "08/05/2023  11:56 PM    <DIR>          sperm_detection_retinanet\n",
      "08/05/2023  11:56 PM    <DIR>          utils\n",
      "08/05/2023  11:56 PM             6,344 view_streamlit.py\n",
      "08/05/2023  11:56 PM    <DIR>          vizualize-flaskapp\n",
      "08/05/2023  11:56 PM    <DIR>          YOLOv6_Deploy\n",
      "               8 File(s)        201,431 bytes\n",
      "               7 Dir(s)  76,435,972,096 bytes free\n"
     ]
    }
   ],
   "source": [
    "%ls"
   ]
  },
  {
   "cell_type": "code",
   "execution_count": 7,
   "metadata": {},
   "outputs": [
    {
     "name": "stdout",
     "output_type": "stream",
     "text": [
      "C:\\Users\\FITHAUI\\Desktop\\human_sperm_morphology_app\\source\\YOLOv6_Deploy\\YOLOv6\n"
     ]
    },
    {
     "name": "stderr",
     "output_type": "stream",
     "text": [
      "Namespace(weights='weights/yolov6t_segrelu.pt', source='C:\\\\Users\\\\FITHAUI\\\\Desktop\\\\human_sperm_morphology_app\\\\source\\\\YOLOv6_Deploy\\\\inputs\\\\imgs_input_4.jpg', yaml='data/miamia-sperm.yaml', img_size=[640, 640], conf_thres=0.4, iou_thres=0.45, max_det=1000, device='cpu', save_txt=False, not_save_img=False, save_dir='C:\\\\Users\\\\FITHAUI\\\\Desktop\\\\human_sperm_morphology_app\\\\source\\\\YOLOv6_Deploy\\\\outputs', view_img=False, classes=None, agnostic_nms=False, project='runs/inference', name='exp', hide_labels=False, hide_conf=False, half=False)\n",
      "Save directory already existed\n",
      "Loading checkpoint from weights/yolov6t_segrelu.pt\n",
      "\n",
      "Fusing model...\n",
      "Switch model to deploy modality.\n",
      "\n",
      "  0%|          | 0/1 [00:00<?, ?it/s]e:\\setting\\anaconda\\envs\\sperm-env\\lib\\site-packages\\torch\\functional.py:504: UserWarning: torch.meshgrid: in an upcoming release, it will be required to pass the indexing argument. (Triggered internally at ..\\aten\\src\\ATen\\native\\TensorShape.cpp:3191.)\n",
      "  return _VF.meshgrid(tensors, **kwargs)  # type: ignore[attr-defined]\n",
      "\n",
      "100%|██████████| 1/1 [00:00<00:00,  3.95it/s]\n",
      "100%|██████████| 1/1 [00:00<00:00,  3.95it/s]\n",
      "Results saved to C:\\Users\\FITHAUI\\Desktop\\human_sperm_morphology_app\\source\\YOLOv6_Deploy\\outputs\n"
     ]
    }
   ],
   "source": [
    "%cd C:\\Users\\FITHAUI\\Desktop\\human_sperm_morphology_app\\source\\YOLOv6_Deploy\\YOLOv6\n",
    "!python tools/infer.py --weights weights/yolov6t_segrelu.pt --source C:\\Users\\FITHAUI\\Desktop\\human_sperm_morphology_app\\source\\YOLOv6_Deploy\\inputs\\imgs_input_4.jpg --save-dir C:\\Users\\FITHAUI\\Desktop\\human_sperm_morphology_app\\source\\YOLOv6_Deploy\\outputs --device cpu --yaml data/miamia-sperm.yaml"
   ]
  },
  {
   "cell_type": "code",
   "execution_count": 9,
   "metadata": {},
   "outputs": [
    {
     "name": "stderr",
     "output_type": "stream",
     "text": [
      "C:\\Users\\FITHAUI\\AppData\\Local\\Temp\\ipykernel_11200\\2320716764.py:25: GradioDeprecationWarning: Usage of gradio.inputs is deprecated, and will not be supported in the future, please import your component from gradio.components\n",
      "  inputs=gr.inputs.Image(),\n",
      "C:\\Users\\FITHAUI\\AppData\\Local\\Temp\\ipykernel_11200\\2320716764.py:25: GradioDeprecationWarning: `optional` parameter is deprecated, and it has no effect\n",
      "  inputs=gr.inputs.Image(),\n"
     ]
    },
    {
     "name": "stdout",
     "output_type": "stream",
     "text": [
      "Running on local URL:  http://127.0.0.1:7860\n",
      "Running on public URL: https://fd7aa8b29db9702c1c.gradio.live\n",
      "\n",
      "This share link expires in 72 hours. For free permanent hosting and GPU upgrades, run `gradio deploy` from Terminal to deploy to Spaces (https://huggingface.co/spaces)\n"
     ]
    },
    {
     "data": {
      "text/html": [
       "<div><iframe src=\"https://fd7aa8b29db9702c1c.gradio.live\" width=\"100%\" height=\"500\" allow=\"autoplay; camera; microphone; clipboard-read; clipboard-write;\" frameborder=\"0\" allowfullscreen></iframe></div>"
      ],
      "text/plain": [
       "<IPython.core.display.HTML object>"
      ]
     },
     "metadata": {},
     "output_type": "display_data"
    },
    {
     "name": "stdout",
     "output_type": "stream",
     "text": [
      "cmd :  python tools/infer.py --weights weights/yolov6t_segrelu.pt --source C:\\Users\\FITHAUI\\Desktop\\human_sperm_morphology_app\\source\\YOLOv6_Deploy\\inputs\\imgs_input_6.jpg --save-dir C:\\Users\\FITHAUI\\Desktop\\human_sperm_morphology_app\\source\\YOLOv6_Deploy\\outputs --device cpu --yaml data/miamia-sperm.yaml\n",
      "cmd :  python tools/infer.py --weights weights/yolov6t_segrelu.pt --source C:\\Users\\FITHAUI\\Desktop\\human_sperm_morphology_app\\source\\YOLOv6_Deploy\\inputs\\imgs_input_7.jpg --save-dir C:\\Users\\FITHAUI\\Desktop\\human_sperm_morphology_app\\source\\YOLOv6_Deploy\\outputs --device cpu --yaml data/miamia-sperm.yaml\n"
     ]
    }
   ],
   "source": [
    "import os\n",
    "import PIL\n",
    "import gradio as gr\n",
    "\n",
    "\n",
    "def demo_UI(img):\n",
    "    # print('img', img)\n",
    "    source = r\"C:\\Users\\FITHAUI\\Desktop\\human_sperm_morphology_app\\source\\YOLOv6_Deploy\\inputs\"\n",
    "    save = r\"C:\\Users\\FITHAUI\\Desktop\\human_sperm_morphology_app\\source\\YOLOv6_Deploy\\outputs\"\n",
    "\n",
    "    if not os.path.exists(source):\n",
    "        os.mkdir(source)\n",
    "    if not os.path.exists(save):\n",
    "        os.mkdir(save)\n",
    "\n",
    "    weight = \"weights/yolov6t_segrelu.pt\"\n",
    "    device = \"cpu\"\n",
    "    ymal = \"data/miamia-sperm.yaml\"\n",
    "    \n",
    "    input_length = len(os.listdir(source))\n",
    "    img_path = os.path.join(source, f\"imgs_input_{input_length + 1}.jpg\")\n",
    "    PIL.Image.fromarray(img).save(img_path)\n",
    "    \n",
    "    cmd = f\"python tools/infer.py --weights {weight} --source {img_path} --save-dir {save} --device {device} --yaml {ymal}\"\n",
    "    print(\"cmd : \", cmd)\n",
    "    os.system(cmd)\n",
    "    return PIL.Image.open(f'{save}\\imgs_input_{input_length + 1}.jpg')\n",
    "\n",
    "demo = gr.Interface(\n",
    "    demo_UI, \n",
    "    inputs=gr.inputs.Image(), \n",
    "    outputs=\"image\",\n",
    "    examples=[\n",
    "      [r\"C:\\Users\\FITHAUI\\Desktop\\human_sperm_morphology_app\\source\\YOLOv6_Deploy\\YOLOv6\\weights\\example\\sperm_img.png\"]\n",
    "  ]\n",
    ")\n",
    "\n",
    "demo.launch(\n",
    "    debug=True,\n",
    "    share = True\n",
    ")"
   ]
  }
 ],
 "metadata": {
  "kernelspec": {
   "display_name": "sperm-env",
   "language": "python",
   "name": "python3"
  },
  "language_info": {
   "codemirror_mode": {
    "name": "ipython",
    "version": 3
   },
   "file_extension": ".py",
   "mimetype": "text/x-python",
   "name": "python",
   "nbconvert_exporter": "python",
   "pygments_lexer": "ipython3",
   "version": "3.10.0"
  },
  "orig_nbformat": 4
 },
 "nbformat": 4,
 "nbformat_minor": 2
}
